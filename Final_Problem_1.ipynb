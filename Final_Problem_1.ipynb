{
 "cells": [
  {
   "cell_type": "markdown",
   "metadata": {},
   "source": [
    "### Problem 1.\n",
    "\n",
    "### Using R, generate a random variable X that has 10,000 random uniform numbers from 1 to N, where N can be any number of your choosing greater than or equal to 6.  Then generate a random variable Y that has 10,000 random normal numbers with a mean of $\\mu=\\sigma=(N+1)/2$.  \n",
    "\n",
    "### Probability.   \n",
    "\n",
    "### Calculate as a minimum the below probabilities a through c.  Assume the small letter \"x\" is estimated as the median of the X variable, and the small letter \"y\" is estimated as the 1st quartile of the Y variable.  Interpret the meaning of all probabilities. 5 points  \n",
    "\n",
    "### a.  P(X>x | X>y)\t\t\n",
    "### b.  P(X>x | Y>y)\t\t\n",
    "### c.  P(X<x | X>y)\t\n"
   ]
  },
  {
   "cell_type": "code",
   "execution_count": 1,
   "metadata": {
    "ExecuteTime": {
     "end_time": "2019-12-15T14:13:24.710613Z",
     "start_time": "2019-12-15T14:13:23.467005Z"
    }
   },
   "outputs": [],
   "source": [
    "import pandas as pd\n",
    "import matplotlib.pyplot as plt\n",
    "from scipy.stats import fisher_exact, chisquare\n",
    "import numpy as np"
   ]
  },
  {
   "cell_type": "code",
   "execution_count": 5,
   "metadata": {
    "ExecuteTime": {
     "end_time": "2019-12-15T14:17:15.587084Z",
     "start_time": "2019-12-15T14:17:15.580654Z"
    }
   },
   "outputs": [],
   "source": [
    "unif_dist = np.random.uniform(1,100,10000)\n",
    "norm_dist = np.random.normal(101/2,101/2,10000)\n",
    "\n",
    "dist_df = pd.DataFrame(np.array([unif_dist, \n",
    "                                 norm_dist]).T,\n",
    "                        columns=['uniform',\n",
    "                                'normal'])"
   ]
  },
  {
   "cell_type": "code",
   "execution_count": 6,
   "metadata": {
    "ExecuteTime": {
     "end_time": "2019-12-15T14:17:21.859668Z",
     "start_time": "2019-12-15T14:17:17.696676Z"
    }
   },
   "outputs": [
    {
     "data": {
      "image/png": "[encoded data removed]",
      "text/plain": [
       "<Figure size 432x288 with 1 Axes>"
      ]
     },
     "metadata": {
      "needs_background": "light"
     },
     "output_type": "display_data"
    }
   ],
   "source": [
    "fig, ax = plt.subplots(1)\n",
    "dist_df.hist(column='normal',\n",
    "             sharex=True,\n",
    "             sharey=True,\n",
    "             bins=1000,\n",
    "             ax=ax,\n",
    "             label='normal');\n",
    "dist_df.hist(column='uniform',\n",
    "             sharex=True,\n",
    "             sharey=True,\n",
    "             bins=1000,\n",
    "             ax=ax,\n",
    "             label='uniform');\n",
    "plt.legend();"
   ]
  },
  {
   "cell_type": "markdown",
   "metadata": {},
   "source": [
    "### a.  P(X>x | X>y)"
   ]
  },
  {
   "cell_type": "markdown",
   "metadata": {},
   "source": [
    "#### P(X>x)"
   ]
  },
  {
   "cell_type": "code",
   "execution_count": 7,
   "metadata": {
    "ExecuteTime": {
     "end_time": "2019-12-15T14:17:30.881744Z",
     "start_time": "2019-12-15T14:17:30.870347Z"
    },
    "scrolled": true
   },
   "outputs": [
    {
     "data": {
      "text/plain": [
       "0.5"
      ]
     },
     "execution_count": 7,
     "metadata": {},
     "output_type": "execute_result"
    }
   ],
   "source": [
    "len(dist_df[dist_df['uniform']>dist_df['uniform'].median()])/len(dist_df)"
   ]
  },
  {
   "cell_type": "markdown",
   "metadata": {
    "ExecuteTime": {
     "end_time": "2019-12-15T02:17:21.143433Z",
     "start_time": "2019-12-15T02:17:21.140940Z"
    }
   },
   "source": [
    "##### Predictable. Since we're using the median, so half the values fall below this"
   ]
  },
  {
   "cell_type": "markdown",
   "metadata": {},
   "source": [
    "#### P(X>y)"
   ]
  },
  {
   "cell_type": "code",
   "execution_count": 8,
   "metadata": {
    "ExecuteTime": {
     "end_time": "2019-12-15T14:17:32.908523Z",
     "start_time": "2019-12-15T14:17:32.901323Z"
    }
   },
   "outputs": [
    {
     "data": {
      "text/plain": [
       "0.8447"
      ]
     },
     "execution_count": 8,
     "metadata": {},
     "output_type": "execute_result"
    }
   ],
   "source": [
    "len(dist_df[dist_df['uniform']>dist_df['normal'].quantile(.25)])/len(dist_df)"
   ]
  },
  {
   "cell_type": "markdown",
   "metadata": {},
   "source": [
    "##### The uniform distirbution (in the plot above) is much  more condensed than the normal, so more than 75% of those values fall above the the 25th percentile of the normal distribution."
   ]
  },
  {
   "cell_type": "markdown",
   "metadata": {},
   "source": [
    "#### P(X>x & X>y )"
   ]
  },
  {
   "cell_type": "code",
   "execution_count": 9,
   "metadata": {
    "ExecuteTime": {
     "end_time": "2019-12-15T14:17:41.819600Z",
     "start_time": "2019-12-15T14:17:41.810143Z"
    }
   },
   "outputs": [
    {
     "data": {
      "text/plain": [
       "0.5"
      ]
     },
     "execution_count": 9,
     "metadata": {},
     "output_type": "execute_result"
    }
   ],
   "source": [
    "len(dist_df[(dist_df['uniform']>dist_df['normal'].quantile(.25))&\n",
    "            (dist_df['uniform']>dist_df['uniform'].median())])/len(dist_df)"
   ]
  },
  {
   "cell_type": "markdown",
   "metadata": {},
   "source": [
    "####  P(X>x) + P(X>y) - P(X>x & X>y ) or P(X>x | X>y )"
   ]
  },
  {
   "cell_type": "code",
   "execution_count": 10,
   "metadata": {
    "ExecuteTime": {
     "end_time": "2019-12-15T14:17:45.452339Z",
     "start_time": "2019-12-15T14:17:45.447380Z"
    }
   },
   "outputs": [
    {
     "data": {
      "text/plain": [
       "0.8447"
      ]
     },
     "execution_count": 10,
     "metadata": {},
     "output_type": "execute_result"
    }
   ],
   "source": [
    ".5 + 0.8447 - 0.5"
   ]
  },
  {
   "cell_type": "markdown",
   "metadata": {},
   "source": [
    "##### Both distributions are centered at .5 so you are left with P(X>y)"
   ]
  },
  {
   "cell_type": "markdown",
   "metadata": {},
   "source": [
    "#### Alternative Method"
   ]
  },
  {
   "cell_type": "code",
   "execution_count": 11,
   "metadata": {
    "ExecuteTime": {
     "end_time": "2019-12-15T14:17:52.393535Z",
     "start_time": "2019-12-15T14:17:52.384139Z"
    }
   },
   "outputs": [
    {
     "data": {
      "text/plain": [
       "0.8447"
      ]
     },
     "execution_count": 11,
     "metadata": {},
     "output_type": "execute_result"
    }
   ],
   "source": [
    "len(dist_df[(dist_df['uniform']>dist_df['uniform'].median())|\n",
    "            (dist_df['uniform']>dist_df['normal'].quantile(.25))])/len(dist_df)"
   ]
  },
  {
   "cell_type": "markdown",
   "metadata": {},
   "source": [
    "### b.  P(X>x | Y>y)"
   ]
  },
  {
   "cell_type": "markdown",
   "metadata": {},
   "source": [
    "#### P(X>x)"
   ]
  },
  {
   "cell_type": "code",
   "execution_count": 12,
   "metadata": {
    "ExecuteTime": {
     "end_time": "2019-12-15T14:17:54.853779Z",
     "start_time": "2019-12-15T14:17:54.846561Z"
    }
   },
   "outputs": [
    {
     "data": {
      "text/plain": [
       "0.5"
      ]
     },
     "execution_count": 12,
     "metadata": {},
     "output_type": "execute_result"
    }
   ],
   "source": [
    "len(dist_df[dist_df['uniform']>dist_df['uniform'].median()])/len(dist_df)"
   ]
  },
  {
   "cell_type": "markdown",
   "metadata": {},
   "source": [
    "#### P(Y>y)"
   ]
  },
  {
   "cell_type": "code",
   "execution_count": 13,
   "metadata": {
    "ExecuteTime": {
     "end_time": "2019-12-15T14:17:57.855840Z",
     "start_time": "2019-12-15T14:17:57.848061Z"
    }
   },
   "outputs": [
    {
     "data": {
      "text/plain": [
       "0.75"
      ]
     },
     "execution_count": 13,
     "metadata": {},
     "output_type": "execute_result"
    }
   ],
   "source": [
    "len(dist_df[dist_df['normal']>dist_df['normal'].quantile(.25)])/len(dist_df)"
   ]
  },
  {
   "cell_type": "markdown",
   "metadata": {},
   "source": [
    "#### P(X>x & Y>y )"
   ]
  },
  {
   "cell_type": "code",
   "execution_count": 14,
   "metadata": {
    "ExecuteTime": {
     "end_time": "2019-12-15T14:18:00.022419Z",
     "start_time": "2019-12-15T14:18:00.013669Z"
    },
    "scrolled": true
   },
   "outputs": [
    {
     "data": {
      "text/plain": [
       "0.3726"
      ]
     },
     "execution_count": 14,
     "metadata": {},
     "output_type": "execute_result"
    }
   ],
   "source": [
    "len(dist_df[(dist_df['normal']>dist_df['normal'].quantile(.25))&\n",
    "            (dist_df['uniform']>dist_df['uniform'].median())])/len(dist_df)"
   ]
  },
  {
   "cell_type": "markdown",
   "metadata": {},
   "source": [
    "####  P(X>x) + P(Y>y) - P(X>x & Y>y ) or P(X>x | Y>y )"
   ]
  },
  {
   "cell_type": "code",
   "execution_count": 15,
   "metadata": {
    "ExecuteTime": {
     "end_time": "2019-12-15T14:18:05.805353Z",
     "start_time": "2019-12-15T14:18:05.800788Z"
    }
   },
   "outputs": [
    {
     "data": {
      "text/plain": [
       "0.8774"
      ]
     },
     "execution_count": 15,
     "metadata": {},
     "output_type": "execute_result"
    }
   ],
   "source": [
    ".5 + .75 - 0.3726"
   ]
  },
  {
   "cell_type": "markdown",
   "metadata": {},
   "source": [
    "##### We're capturing the majority of the values here: 50% of the uniform distribution and 75% of the normal distribution"
   ]
  },
  {
   "cell_type": "markdown",
   "metadata": {},
   "source": [
    "#### Alternative Method"
   ]
  },
  {
   "cell_type": "code",
   "execution_count": 16,
   "metadata": {
    "ExecuteTime": {
     "end_time": "2019-12-15T14:18:26.353828Z",
     "start_time": "2019-12-15T14:18:26.342971Z"
    },
    "scrolled": true
   },
   "outputs": [
    {
     "data": {
      "text/plain": [
       "0.8774"
      ]
     },
     "execution_count": 16,
     "metadata": {},
     "output_type": "execute_result"
    }
   ],
   "source": [
    "len(dist_df[(dist_df['normal']>dist_df['normal'].quantile(.25))|\n",
    "            (dist_df['uniform']>dist_df['uniform'].median())])/len(dist_df)"
   ]
  },
  {
   "cell_type": "markdown",
   "metadata": {},
   "source": [
    "### c.  P(X<x | X>y)"
   ]
  },
  {
   "cell_type": "markdown",
   "metadata": {},
   "source": [
    "#### P(X<x)"
   ]
  },
  {
   "cell_type": "code",
   "execution_count": 17,
   "metadata": {
    "ExecuteTime": {
     "end_time": "2019-12-15T14:18:28.520594Z",
     "start_time": "2019-12-15T14:18:28.513333Z"
    }
   },
   "outputs": [
    {
     "data": {
      "text/plain": [
       "0.5"
      ]
     },
     "execution_count": 17,
     "metadata": {},
     "output_type": "execute_result"
    }
   ],
   "source": [
    "len(dist_df[dist_df['uniform']<dist_df['uniform'].median()])/len(dist_df)"
   ]
  },
  {
   "cell_type": "markdown",
   "metadata": {},
   "source": [
    "#### P(X>y)"
   ]
  },
  {
   "cell_type": "code",
   "execution_count": 18,
   "metadata": {
    "ExecuteTime": {
     "end_time": "2019-12-15T14:18:30.603338Z",
     "start_time": "2019-12-15T14:18:30.595019Z"
    }
   },
   "outputs": [
    {
     "data": {
      "text/plain": [
       "0.8447"
      ]
     },
     "execution_count": 18,
     "metadata": {},
     "output_type": "execute_result"
    }
   ],
   "source": [
    "len(dist_df[dist_df['uniform']>dist_df['normal'].quantile(.25)])/len(dist_df)"
   ]
  },
  {
   "cell_type": "markdown",
   "metadata": {},
   "source": [
    "#### P(X<x & X>y )"
   ]
  },
  {
   "cell_type": "code",
   "execution_count": 19,
   "metadata": {
    "ExecuteTime": {
     "end_time": "2019-12-15T14:18:33.847009Z",
     "start_time": "2019-12-15T14:18:33.837666Z"
    }
   },
   "outputs": [
    {
     "data": {
      "text/plain": [
       "0.3447"
      ]
     },
     "execution_count": 19,
     "metadata": {},
     "output_type": "execute_result"
    }
   ],
   "source": [
    "len(dist_df[(dist_df['uniform']>dist_df['normal'].quantile(.25))&\n",
    "            (dist_df['uniform']<dist_df['uniform'].median())])/len(dist_df)"
   ]
  },
  {
   "cell_type": "markdown",
   "metadata": {},
   "source": [
    "####  P(X<x) + P(Y>y) - P(X<x & X>y ) or P(X<x | X>y )"
   ]
  },
  {
   "cell_type": "code",
   "execution_count": 20,
   "metadata": {
    "ExecuteTime": {
     "end_time": "2019-12-15T14:18:41.860972Z",
     "start_time": "2019-12-15T14:18:41.856700Z"
    }
   },
   "outputs": [
    {
     "data": {
      "text/plain": [
       "1.0"
      ]
     },
     "execution_count": 20,
     "metadata": {},
     "output_type": "execute_result"
    }
   ],
   "source": [
    "0.5 + 0.8447 - 0.3447"
   ]
  },
  {
   "cell_type": "markdown",
   "metadata": {},
   "source": [
    "##### The above is 1 because we're capturing the full spectrum. With both probabilities we're capturing 50% of the data"
   ]
  },
  {
   "cell_type": "markdown",
   "metadata": {},
   "source": [
    "#### Alternative Method"
   ]
  },
  {
   "cell_type": "code",
   "execution_count": 21,
   "metadata": {
    "ExecuteTime": {
     "end_time": "2019-12-15T14:18:49.201598Z",
     "start_time": "2019-12-15T14:18:49.191537Z"
    }
   },
   "outputs": [
    {
     "data": {
      "text/plain": [
       "1.0"
      ]
     },
     "execution_count": 21,
     "metadata": {},
     "output_type": "execute_result"
    }
   ],
   "source": [
    "len(dist_df[(dist_df['uniform']>dist_df['normal'].quantile(.25))|\n",
    "            (dist_df['uniform']<dist_df['uniform'].median())])/len(dist_df)"
   ]
  },
  {
   "cell_type": "markdown",
   "metadata": {},
   "source": [
    "### 5 points. Investigate whether $P(X>x \\space and\\space Y>y)=P(X>x)P(Y>y)$ by building a table and evaluating the marginal and joint probabilities."
   ]
  },
  {
   "cell_type": "code",
   "execution_count": 19,
   "metadata": {
    "ExecuteTime": {
     "end_time": "2019-12-15T01:25:27.521329Z",
     "start_time": "2019-12-15T01:25:27.514236Z"
    },
    "scrolled": true
   },
   "outputs": [
    {
     "data": {
      "text/plain": [
       "(0.3749, 0.375)"
      ]
     },
     "execution_count": 19,
     "metadata": {},
     "output_type": "execute_result"
    }
   ],
   "source": [
    "0.3749, .5 * 0.75"
   ]
  },
  {
   "cell_type": "markdown",
   "metadata": {},
   "source": [
    "##### This seems to be the case. "
   ]
  },
  {
   "cell_type": "markdown",
   "metadata": {},
   "source": [
    "\n",
    "### 5 points.  Check to see if independence holds by using Fisher’s Exact Test and the Chi Square Test.  What is the difference between the two? Which is most appropriate?"
   ]
  },
  {
   "cell_type": "markdown",
   "metadata": {},
   "source": [
    "#### Build the counts for the four filters"
   ]
  },
  {
   "cell_type": "code",
   "execution_count": 20,
   "metadata": {
    "ExecuteTime": {
     "end_time": "2019-12-15T01:25:27.547101Z",
     "start_time": "2019-12-15T01:25:27.523293Z"
    }
   },
   "outputs": [
    {
     "data": {
      "text/plain": [
       "array([[1258, 3742],\n",
       "       [1242, 3758]])"
      ]
     },
     "execution_count": 20,
     "metadata": {},
     "output_type": "execute_result"
    }
   ],
   "source": [
    "joint_prob = np.array((len(dist_df[(dist_df['normal']<dist_df['normal'].quantile(.25))&\n",
    "                          (dist_df['uniform']<dist_df['uniform'].median())]),\n",
    "                       len(dist_df[(dist_df['normal']>dist_df['normal'].quantile(.25))&\n",
    "                          (dist_df['uniform']<dist_df['uniform'].median())]),\n",
    "                       len(dist_df[(dist_df['normal']<dist_df['normal'].quantile(.25))&\n",
    "                          (dist_df['uniform']>dist_df['uniform'].median())]),\n",
    "                       len(dist_df[(dist_df['normal']>dist_df['normal'].quantile(.25))&\n",
    "                          (dist_df['uniform']>dist_df['uniform'].median())]))).reshape(2,2)\n",
    "\n",
    "joint_prob"
   ]
  },
  {
   "cell_type": "markdown",
   "metadata": {},
   "source": [
    "#### Build the probability table"
   ]
  },
  {
   "cell_type": "code",
   "execution_count": 21,
   "metadata": {
    "ExecuteTime": {
     "end_time": "2019-12-15T01:25:27.562576Z",
     "start_time": "2019-12-15T01:25:27.549351Z"
    }
   },
   "outputs": [
    {
     "data": {
      "text/html": [
       "<div>\n",
       "<style scoped>\n",
       "    .dataframe tbody tr th:only-of-type {\n",
       "        vertical-align: middle;\n",
       "    }\n",
       "\n",
       "    .dataframe tbody tr th {\n",
       "        vertical-align: top;\n",
       "    }\n",
       "\n",
       "    .dataframe thead th {\n",
       "        text-align: right;\n",
       "    }\n",
       "</style>\n",
       "<table border=\"1\" class=\"dataframe\">\n",
       "  <thead>\n",
       "    <tr style=\"text-align: right;\">\n",
       "      <th></th>\n",
       "      <th>Y&lt;y</th>\n",
       "      <th>Y&gt;y</th>\n",
       "    </tr>\n",
       "  </thead>\n",
       "  <tbody>\n",
       "    <tr>\n",
       "      <th>X&lt;x</th>\n",
       "      <td>1258</td>\n",
       "      <td>3742</td>\n",
       "    </tr>\n",
       "    <tr>\n",
       "      <th>X&gt;x</th>\n",
       "      <td>1242</td>\n",
       "      <td>3758</td>\n",
       "    </tr>\n",
       "  </tbody>\n",
       "</table>\n",
       "</div>"
      ],
      "text/plain": [
       "      Y<y   Y>y\n",
       "X<x  1258  3742\n",
       "X>x  1242  3758"
      ]
     },
     "execution_count": 21,
     "metadata": {},
     "output_type": "execute_result"
    }
   ],
   "source": [
    "probability_table = pd.DataFrame(joint_prob,\n",
    "                                  columns=['Y<y','Y>y'],\n",
    "                                  index=['X<x','X>x'])\n",
    "\n",
    "probability_table"
   ]
  },
  {
   "cell_type": "markdown",
   "metadata": {},
   "source": [
    "#### Fisher Exact Test"
   ]
  },
  {
   "cell_type": "code",
   "execution_count": 24,
   "metadata": {
    "ExecuteTime": {
     "end_time": "2019-12-15T01:26:15.088030Z",
     "start_time": "2019-12-15T01:26:14.669029Z"
    }
   },
   "outputs": [
    {
     "name": "stdout",
     "output_type": "stream",
     "text": [
      "Test Statistics for Fisher Exact: 1.0172133186331591\n",
      "P Values for Fisher Exact: 0.7290389479689763\n"
     ]
    }
   ],
   "source": [
    "print('Test Statistics for Fisher Exact:',fisher_exact(probability_table)[0])\n",
    "print('P Values for Fisher Exact:',fisher_exact(probability_table)[1])"
   ]
  },
  {
   "cell_type": "markdown",
   "metadata": {},
   "source": [
    "#### Chi Square Test"
   ]
  },
  {
   "cell_type": "code",
   "execution_count": 25,
   "metadata": {
    "ExecuteTime": {
     "end_time": "2019-12-15T01:26:20.568382Z",
     "start_time": "2019-12-15T01:26:20.562788Z"
    }
   },
   "outputs": [
    {
     "name": "stdout",
     "output_type": "stream",
     "text": [
      "Test Statistics for Chi Square: [0.1024     0.03413333]\n",
      "P Values for Chi Square: [0.74896833 0.85342349]\n"
     ]
    }
   ],
   "source": [
    "print('Test Statistics for Chi Square:',chisquare(joint_prob)[0])\n",
    "print('P Values for Chi Square:',chisquare(joint_prob)[1])"
   ]
  },
  {
   "cell_type": "markdown",
   "metadata": {},
   "source": [
    "##### The Fisher test is typically used in instances where you have two nominal variables, and you want to know if one affects the other. Since it relies on the hypergeometric distribution, the computed factorials can become very large, so it is best used when the sample size is small. The Chi Square test can be performed on more than two categories (that is,  it does not require a strictly 2*2 table). Futher, it is better for large frequencies, such as in this case."
   ]
  },
  {
   "cell_type": "code",
   "execution_count": null,
   "metadata": {},
   "outputs": [],
   "source": []
  }
 ],
 "metadata": {
  "kernelspec": {
   "display_name": "test-env",
   "language": "python",
   "name": "test-env"
  },
  "language_info": {
   "codemirror_mode": {
    "name": "ipython",
    "version": 3
   },
   "file_extension": ".py",
   "mimetype": "text/x-python",
   "name": "python",
   "nbconvert_exporter": "python",
   "pygments_lexer": "ipython3",
   "version": "3.7.5"
  },
  "varInspector": {
   "cols": {
    "lenName": 16,
    "lenType": 16,
    "lenVar": 40
   },
   "kernels_config": {
    "python": {
     "delete_cmd_postfix": "",
     "delete_cmd_prefix": "del ",
     "library": "var_list.py",
     "varRefreshCmd": "print(var_dic_list())"
    },
    "r": {
     "delete_cmd_postfix": ") ",
     "delete_cmd_prefix": "rm(",
     "library": "var_list.r",
     "varRefreshCmd": "cat(var_dic_list()) "
    }
   },
   "types_to_exclude": [
    "module",
    "function",
    "builtin_function_or_method",
    "instance",
    "_Feature"
   ],
   "window_display": false
  }
 },
 "nbformat": 4,
 "nbformat_minor": 2
}
